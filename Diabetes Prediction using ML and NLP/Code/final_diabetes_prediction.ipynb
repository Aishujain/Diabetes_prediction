{
 "cells": [
  {
   "cell_type": "markdown",
   "id": "4a4a137e",
   "metadata": {},
   "source": [
    "## MACHINE LEARNING MODEL FOR DIABETES PREDICTION"
   ]
  },
  {
   "cell_type": "code",
   "execution_count": 1,
   "id": "9f95245c",
   "metadata": {},
   "outputs": [],
   "source": [
    "#libraries\n",
    "import pandas as pd\n",
    "from sklearn.model_selection import train_test_split, cross_val_score\n",
    "from sklearn.ensemble import RandomForestClassifier\n",
    "from sklearn.metrics import accuracy_score, confusion_matrix\n",
    "import numpy as np\n",
    "import seaborn as sns\n",
    "import matplotlib.pyplot as plt\n",
    "from sklearn import preprocessing\n",
    "from sklearn.feature_selection import mutual_info_classif\n",
    "from sklearn.feature_selection import SelectKBest\n",
    "from sklearn.feature_selection import mutual_info_regression\n",
    "from sklearn.preprocessing import StandardScaler\n",
    "from sklearn.feature_selection import VarianceThreshold\n",
    "from sklearn.ensemble import RandomForestClassifier\n",
    "from keras.models import Sequential\n",
    "from keras.layers import Dense\n",
    "from sklearn.tree import DecisionTreeRegressor\n",
    "from sklearn.metrics import mean_absolute_error\n",
    "from sklearn.model_selection import cross_val_score\n",
    "import warnings\n",
    "import pickle\n",
    "warnings.filterwarnings(\"ignore\")"
   ]
  },
  {
   "cell_type": "markdown",
   "id": "d02b137b",
   "metadata": {},
   "source": [
    "### Dabetes symptoms"
   ]
  },
  {
   "cell_type": "code",
   "execution_count": 2,
   "id": "6aed6716",
   "metadata": {},
   "outputs": [
    {
     "data": {
      "text/html": [
       "<div>\n",
       "<style scoped>\n",
       "    .dataframe tbody tr th:only-of-type {\n",
       "        vertical-align: middle;\n",
       "    }\n",
       "\n",
       "    .dataframe tbody tr th {\n",
       "        vertical-align: top;\n",
       "    }\n",
       "\n",
       "    .dataframe thead th {\n",
       "        text-align: right;\n",
       "    }\n",
       "</style>\n",
       "<table border=\"1\" class=\"dataframe\">\n",
       "  <thead>\n",
       "    <tr style=\"text-align: right;\">\n",
       "      <th></th>\n",
       "      <th>Age</th>\n",
       "      <th>Gender</th>\n",
       "      <th>Frequent_Urination</th>\n",
       "      <th>Frequent_Thirst</th>\n",
       "      <th>Sudden_Weight_Loss</th>\n",
       "      <th>Weakness</th>\n",
       "      <th>Excessive_Eating</th>\n",
       "      <th>Visual_Blurring</th>\n",
       "      <th>Itching</th>\n",
       "      <th>Irritability</th>\n",
       "      <th>Delayed_Healing</th>\n",
       "      <th>Partial_Paresis</th>\n",
       "      <th>Muscle_Stiffness</th>\n",
       "      <th>Alopecia</th>\n",
       "      <th>Obesity</th>\n",
       "      <th>Class</th>\n",
       "    </tr>\n",
       "  </thead>\n",
       "  <tbody>\n",
       "    <tr>\n",
       "      <th>0</th>\n",
       "      <td>40</td>\n",
       "      <td>Male</td>\n",
       "      <td>No</td>\n",
       "      <td>Yes</td>\n",
       "      <td>No</td>\n",
       "      <td>Yes</td>\n",
       "      <td>No</td>\n",
       "      <td>No</td>\n",
       "      <td>Yes</td>\n",
       "      <td>No</td>\n",
       "      <td>Yes</td>\n",
       "      <td>No</td>\n",
       "      <td>Yes</td>\n",
       "      <td>Yes</td>\n",
       "      <td>Yes</td>\n",
       "      <td>1</td>\n",
       "    </tr>\n",
       "    <tr>\n",
       "      <th>1</th>\n",
       "      <td>38</td>\n",
       "      <td>Male</td>\n",
       "      <td>Yes</td>\n",
       "      <td>Yes</td>\n",
       "      <td>No</td>\n",
       "      <td>No</td>\n",
       "      <td>Yes</td>\n",
       "      <td>No</td>\n",
       "      <td>Yes</td>\n",
       "      <td>No</td>\n",
       "      <td>Yes</td>\n",
       "      <td>No</td>\n",
       "      <td>Yes</td>\n",
       "      <td>No</td>\n",
       "      <td>No</td>\n",
       "      <td>1</td>\n",
       "    </tr>\n",
       "    <tr>\n",
       "      <th>2</th>\n",
       "      <td>35</td>\n",
       "      <td>Male</td>\n",
       "      <td>Yes</td>\n",
       "      <td>No</td>\n",
       "      <td>No</td>\n",
       "      <td>No</td>\n",
       "      <td>Yes</td>\n",
       "      <td>No</td>\n",
       "      <td>No</td>\n",
       "      <td>Yes</td>\n",
       "      <td>Yes</td>\n",
       "      <td>No</td>\n",
       "      <td>No</td>\n",
       "      <td>Yes</td>\n",
       "      <td>No</td>\n",
       "      <td>1</td>\n",
       "    </tr>\n",
       "    <tr>\n",
       "      <th>3</th>\n",
       "      <td>39</td>\n",
       "      <td>Male</td>\n",
       "      <td>Yes</td>\n",
       "      <td>No</td>\n",
       "      <td>Yes</td>\n",
       "      <td>No</td>\n",
       "      <td>No</td>\n",
       "      <td>No</td>\n",
       "      <td>Yes</td>\n",
       "      <td>Yes</td>\n",
       "      <td>No</td>\n",
       "      <td>No</td>\n",
       "      <td>No</td>\n",
       "      <td>Yes</td>\n",
       "      <td>No</td>\n",
       "      <td>1</td>\n",
       "    </tr>\n",
       "    <tr>\n",
       "      <th>4</th>\n",
       "      <td>32</td>\n",
       "      <td>Male</td>\n",
       "      <td>No</td>\n",
       "      <td>No</td>\n",
       "      <td>No</td>\n",
       "      <td>No</td>\n",
       "      <td>No</td>\n",
       "      <td>No</td>\n",
       "      <td>No</td>\n",
       "      <td>Yes</td>\n",
       "      <td>Yes</td>\n",
       "      <td>No</td>\n",
       "      <td>No</td>\n",
       "      <td>No</td>\n",
       "      <td>Yes</td>\n",
       "      <td>1</td>\n",
       "    </tr>\n",
       "  </tbody>\n",
       "</table>\n",
       "</div>"
      ],
      "text/plain": [
       "   Age Gender Frequent_Urination Frequent_Thirst Sudden_Weight_Loss Weakness  \\\n",
       "0   40   Male                 No             Yes                 No      Yes   \n",
       "1   38   Male                Yes             Yes                 No       No   \n",
       "2   35   Male                Yes              No                 No       No   \n",
       "3   39   Male                Yes              No                Yes       No   \n",
       "4   32   Male                 No              No                 No       No   \n",
       "\n",
       "  Excessive_Eating Visual_Blurring Itching Irritability Delayed_Healing  \\\n",
       "0               No              No     Yes           No             Yes   \n",
       "1              Yes              No     Yes           No             Yes   \n",
       "2              Yes              No      No          Yes             Yes   \n",
       "3               No              No     Yes          Yes              No   \n",
       "4               No              No      No          Yes             Yes   \n",
       "\n",
       "  Partial_Paresis Muscle_Stiffness Alopecia Obesity  Class  \n",
       "0              No              Yes      Yes     Yes      1  \n",
       "1              No              Yes       No      No      1  \n",
       "2              No               No      Yes      No      1  \n",
       "3              No               No      Yes      No      1  \n",
       "4              No               No       No     Yes      1  "
      ]
     },
     "execution_count": 2,
     "metadata": {},
     "output_type": "execute_result"
    }
   ],
   "source": [
    "#loading data\n",
    "df_symptoms = pd.read_csv('useful/diabetes_data_upload_20_40.csv')\n",
    "df_symptoms.head()"
   ]
  },
  {
   "cell_type": "code",
   "execution_count": 3,
   "id": "3e3a3884",
   "metadata": {},
   "outputs": [
    {
     "data": {
      "text/html": [
       "<div>\n",
       "<style scoped>\n",
       "    .dataframe tbody tr th:only-of-type {\n",
       "        vertical-align: middle;\n",
       "    }\n",
       "\n",
       "    .dataframe tbody tr th {\n",
       "        vertical-align: top;\n",
       "    }\n",
       "\n",
       "    .dataframe thead th {\n",
       "        text-align: right;\n",
       "    }\n",
       "</style>\n",
       "<table border=\"1\" class=\"dataframe\">\n",
       "  <thead>\n",
       "    <tr style=\"text-align: right;\">\n",
       "      <th></th>\n",
       "      <th>Age</th>\n",
       "      <th>Gender</th>\n",
       "      <th>Frequent_Urination</th>\n",
       "      <th>Frequent_Thirst</th>\n",
       "      <th>Sudden_Weight_Loss</th>\n",
       "      <th>Weakness</th>\n",
       "      <th>Excessive_Eating</th>\n",
       "      <th>Visual_Blurring</th>\n",
       "      <th>Itching</th>\n",
       "      <th>Irritability</th>\n",
       "      <th>Delayed_Healing</th>\n",
       "      <th>Partial_Paresis</th>\n",
       "      <th>Muscle_Stiffness</th>\n",
       "      <th>Alopecia</th>\n",
       "      <th>Obesity</th>\n",
       "      <th>Class</th>\n",
       "    </tr>\n",
       "  </thead>\n",
       "  <tbody>\n",
       "    <tr>\n",
       "      <th>0</th>\n",
       "      <td>40</td>\n",
       "      <td>1</td>\n",
       "      <td>0</td>\n",
       "      <td>1</td>\n",
       "      <td>0</td>\n",
       "      <td>1</td>\n",
       "      <td>0</td>\n",
       "      <td>0</td>\n",
       "      <td>1</td>\n",
       "      <td>0</td>\n",
       "      <td>1</td>\n",
       "      <td>0</td>\n",
       "      <td>1</td>\n",
       "      <td>1</td>\n",
       "      <td>1</td>\n",
       "      <td>1</td>\n",
       "    </tr>\n",
       "    <tr>\n",
       "      <th>1</th>\n",
       "      <td>38</td>\n",
       "      <td>1</td>\n",
       "      <td>1</td>\n",
       "      <td>1</td>\n",
       "      <td>0</td>\n",
       "      <td>0</td>\n",
       "      <td>1</td>\n",
       "      <td>0</td>\n",
       "      <td>1</td>\n",
       "      <td>0</td>\n",
       "      <td>1</td>\n",
       "      <td>0</td>\n",
       "      <td>1</td>\n",
       "      <td>0</td>\n",
       "      <td>0</td>\n",
       "      <td>1</td>\n",
       "    </tr>\n",
       "    <tr>\n",
       "      <th>2</th>\n",
       "      <td>35</td>\n",
       "      <td>1</td>\n",
       "      <td>1</td>\n",
       "      <td>0</td>\n",
       "      <td>0</td>\n",
       "      <td>0</td>\n",
       "      <td>1</td>\n",
       "      <td>0</td>\n",
       "      <td>0</td>\n",
       "      <td>1</td>\n",
       "      <td>1</td>\n",
       "      <td>0</td>\n",
       "      <td>0</td>\n",
       "      <td>1</td>\n",
       "      <td>0</td>\n",
       "      <td>1</td>\n",
       "    </tr>\n",
       "    <tr>\n",
       "      <th>3</th>\n",
       "      <td>39</td>\n",
       "      <td>1</td>\n",
       "      <td>1</td>\n",
       "      <td>0</td>\n",
       "      <td>1</td>\n",
       "      <td>0</td>\n",
       "      <td>0</td>\n",
       "      <td>0</td>\n",
       "      <td>1</td>\n",
       "      <td>1</td>\n",
       "      <td>0</td>\n",
       "      <td>0</td>\n",
       "      <td>0</td>\n",
       "      <td>1</td>\n",
       "      <td>0</td>\n",
       "      <td>1</td>\n",
       "    </tr>\n",
       "    <tr>\n",
       "      <th>4</th>\n",
       "      <td>32</td>\n",
       "      <td>1</td>\n",
       "      <td>0</td>\n",
       "      <td>0</td>\n",
       "      <td>0</td>\n",
       "      <td>0</td>\n",
       "      <td>0</td>\n",
       "      <td>0</td>\n",
       "      <td>0</td>\n",
       "      <td>1</td>\n",
       "      <td>1</td>\n",
       "      <td>0</td>\n",
       "      <td>0</td>\n",
       "      <td>0</td>\n",
       "      <td>1</td>\n",
       "      <td>1</td>\n",
       "    </tr>\n",
       "  </tbody>\n",
       "</table>\n",
       "</div>"
      ],
      "text/plain": [
       "   Age  Gender  Frequent_Urination  Frequent_Thirst  Sudden_Weight_Loss  \\\n",
       "0   40       1                   0                1                   0   \n",
       "1   38       1                   1                1                   0   \n",
       "2   35       1                   1                0                   0   \n",
       "3   39       1                   1                0                   1   \n",
       "4   32       1                   0                0                   0   \n",
       "\n",
       "   Weakness  Excessive_Eating  Visual_Blurring  Itching  Irritability  \\\n",
       "0         1                 0                0        1             0   \n",
       "1         0                 1                0        1             0   \n",
       "2         0                 1                0        0             1   \n",
       "3         0                 0                0        1             1   \n",
       "4         0                 0                0        0             1   \n",
       "\n",
       "   Delayed_Healing  Partial_Paresis  Muscle_Stiffness  Alopecia  Obesity  \\\n",
       "0                1                0                 1         1        1   \n",
       "1                1                0                 1         0        0   \n",
       "2                1                0                 0         1        0   \n",
       "3                0                0                 0         1        0   \n",
       "4                1                0                 0         0        1   \n",
       "\n",
       "   Class  \n",
       "0      1  \n",
       "1      1  \n",
       "2      1  \n",
       "3      1  \n",
       "4      1  "
      ]
     },
     "execution_count": 3,
     "metadata": {},
     "output_type": "execute_result"
    }
   ],
   "source": [
    "# converting categorical variable into numerical\n",
    "label_encoder = preprocessing.LabelEncoder()\n",
    "for column in df_symptoms.columns[1:]:\n",
    "    df_symptoms[column] =  label_encoder.fit_transform(df_symptoms[column])\n",
    "    \n",
    "df_symptoms.head()"
   ]
  },
  {
   "cell_type": "code",
   "execution_count": 4,
   "id": "b747162a",
   "metadata": {},
   "outputs": [],
   "source": [
    "#select columns based on exploration\n",
    "x_var = df_symptoms[['Age','Gender','Frequent_Urination','Frequent_Thirst','Weakness','Excessive_Eating','Delayed_Healing','Partial_Paresis']]\n",
    "y_var = df_symptoms['Class']"
   ]
  },
  {
   "cell_type": "code",
   "execution_count": 6,
   "id": "33a68a8c",
   "metadata": {},
   "outputs": [],
   "source": [
    "X_train,X_test,y_train,y_test = train_test_split(x_var,y_var,test_size = 0.2,random_state=42)"
   ]
  },
  {
   "cell_type": "code",
   "execution_count": 7,
   "id": "9d80b592",
   "metadata": {},
   "outputs": [],
   "source": [
    "# normalise the columns using standard scalar\n",
    "scalar_symptom = StandardScaler()\n",
    "X_train = scalar_symptom.fit_transform(X_train)\n",
    "X_test = scalar_symptom.transform(X_test)"
   ]
  },
  {
   "cell_type": "code",
   "execution_count": 11,
   "id": "3827c5c7",
   "metadata": {},
   "outputs": [],
   "source": [
    "#dataset 1 scalar file\n",
    "pickle.dump(scalar_symptom,open('scalar_symptom.pkl','wb'))"
   ]
  },
  {
   "cell_type": "code",
   "execution_count": 13,
   "id": "3f2add0d",
   "metadata": {},
   "outputs": [
    {
     "name": "stdout",
     "output_type": "stream",
     "text": [
      "accuracy = 97.03 %\n",
      "standard deviation = 4.84 %\n"
     ]
    }
   ],
   "source": [
    "#model trained using random forest\n",
    "for i in range(1,100):\n",
    "    \n",
    "    rforest = RandomForestClassifier(n_estimators=i,criterion='entropy',random_state=0)\n",
    "    rforest.fit(X_train,y_train)\n",
    "\n",
    "accu = cross_val_score(estimator=rforest, X=X_train ,y=y_train,cv=10)\n",
    "print(\"accuracy = {:.2f} %\".format(accu.mean()*100))\n",
    "print(\"standard deviation = {:.2f} %\".format(accu.std()*100))"
   ]
  },
  {
   "cell_type": "code",
   "execution_count": 14,
   "id": "17acb061",
   "metadata": {},
   "outputs": [
    {
     "name": "stdout",
     "output_type": "stream",
     "text": [
      "0.9411764705882353\n",
      "[[12  1]\n",
      " [ 1 20]]\n"
     ]
    }
   ],
   "source": [
    "#prediction\n",
    "pred_symptom_diabetic = rforest.predict(X_test)\n",
    "#evaluation\n",
    "rf_accuracy = accuracy_score(pred_symptom_diabetic,y_test)\n",
    "con_matrix = confusion_matrix(pred_symptom_diabetic,y_test)\n",
    "print(rf_accuracy)\n",
    "print(con_matrix)"
   ]
  },
  {
   "cell_type": "code",
   "execution_count": 15,
   "id": "1acd180c",
   "metadata": {},
   "outputs": [
    {
     "name": "stdout",
     "output_type": "stream",
     "text": [
      "Epoch 1/10\n",
      "4/4 [==============================] - 1s 54ms/step - loss: 0.9356 - accuracy: 0.3962 - val_loss: 0.9817 - val_accuracy: 0.3333\n",
      "Epoch 2/10\n",
      "4/4 [==============================] - 0s 9ms/step - loss: 0.8571 - accuracy: 0.4245 - val_loss: 0.9128 - val_accuracy: 0.3704\n",
      "Epoch 3/10\n",
      "4/4 [==============================] - 0s 9ms/step - loss: 0.7890 - accuracy: 0.4717 - val_loss: 0.8503 - val_accuracy: 0.4444\n",
      "Epoch 4/10\n",
      "4/4 [==============================] - 0s 10ms/step - loss: 0.7294 - accuracy: 0.5755 - val_loss: 0.7933 - val_accuracy: 0.4444\n",
      "Epoch 5/10\n",
      "4/4 [==============================] - 0s 10ms/step - loss: 0.6754 - accuracy: 0.5849 - val_loss: 0.7434 - val_accuracy: 0.4444\n",
      "Epoch 6/10\n",
      "4/4 [==============================] - 0s 10ms/step - loss: 0.6304 - accuracy: 0.5849 - val_loss: 0.6999 - val_accuracy: 0.4444\n",
      "Epoch 7/10\n",
      "4/4 [==============================] - 0s 10ms/step - loss: 0.5891 - accuracy: 0.5849 - val_loss: 0.6620 - val_accuracy: 0.4444\n",
      "Epoch 8/10\n",
      "4/4 [==============================] - 0s 9ms/step - loss: 0.5541 - accuracy: 0.5943 - val_loss: 0.6289 - val_accuracy: 0.4444\n",
      "Epoch 9/10\n",
      "4/4 [==============================] - 0s 9ms/step - loss: 0.5235 - accuracy: 0.7075 - val_loss: 0.6008 - val_accuracy: 0.6667\n",
      "Epoch 10/10\n",
      "4/4 [==============================] - 0s 9ms/step - loss: 0.4981 - accuracy: 0.7736 - val_loss: 0.5758 - val_accuracy: 0.6667\n"
     ]
    },
    {
     "data": {
      "text/plain": [
       "<keras.callbacks.History at 0x1e22bb28490>"
      ]
     },
     "execution_count": 15,
     "metadata": {},
     "output_type": "execute_result"
    }
   ],
   "source": [
    "# Neural network for converting binary to percentage\n",
    "num_var = X_train.shape[1]\n",
    "# 0 for not having and 1 for having diabetes\n",
    "num_class = 2\n",
    "\n",
    "# define soft_max_model with softmax activation\n",
    "soft_max_model = Sequential()\n",
    "soft_max_model.add(Dense(32, input_dim = num_var, activation ='relu'))\n",
    "soft_max_model.add(Dense(num_class, activation ='softmax'))\n",
    "\n",
    "# compile soft_max_model\n",
    "soft_max_model.compile(loss='categorical_crossentropy', optimizer='adam', metrics=['accuracy'])\n",
    "\n",
    "# convert binary labels to categorical\n",
    "from keras.utils import to_categorical\n",
    "y_train_cat = to_categorical(y_train)\n",
    "\n",
    "# train soft_max_model\n",
    "soft_max_model.fit(X_train, y_train_cat, epochs=10, batch_size=32, validation_split=0.2)"
   ]
  },
  {
   "cell_type": "code",
   "execution_count": 16,
   "id": "9da25072",
   "metadata": {},
   "outputs": [
    {
     "name": "stdout",
     "output_type": "stream",
     "text": [
      "2/2 [==============================] - 0s 2ms/step\n"
     ]
    }
   ],
   "source": [
    "# perform perdiction on test data\n",
    "y_prediction = soft_max_model.predict(X_test)*100"
   ]
  },
  {
   "cell_type": "markdown",
   "id": "a99b0208",
   "metadata": {},
   "source": [
    "### User Demograph"
   ]
  },
  {
   "cell_type": "code",
   "execution_count": 17,
   "id": "a8787bdc",
   "metadata": {},
   "outputs": [
    {
     "data": {
      "text/html": [
       "<div>\n",
       "<style scoped>\n",
       "    .dataframe tbody tr th:only-of-type {\n",
       "        vertical-align: middle;\n",
       "    }\n",
       "\n",
       "    .dataframe tbody tr th {\n",
       "        vertical-align: top;\n",
       "    }\n",
       "\n",
       "    .dataframe thead th {\n",
       "        text-align: right;\n",
       "    }\n",
       "</style>\n",
       "<table border=\"1\" class=\"dataframe\">\n",
       "  <thead>\n",
       "    <tr style=\"text-align: right;\">\n",
       "      <th></th>\n",
       "      <th>Age</th>\n",
       "      <th>Gender</th>\n",
       "      <th>Blood_Pressure</th>\n",
       "      <th>Family_member_with_Diabetes_past_present</th>\n",
       "      <th>BMI</th>\n",
       "      <th>percentage_diabetes</th>\n",
       "    </tr>\n",
       "  </thead>\n",
       "  <tbody>\n",
       "    <tr>\n",
       "      <th>0</th>\n",
       "      <td>40</td>\n",
       "      <td>Male</td>\n",
       "      <td>1</td>\n",
       "      <td>0</td>\n",
       "      <td>28</td>\n",
       "      <td>62.00</td>\n",
       "    </tr>\n",
       "    <tr>\n",
       "      <th>1</th>\n",
       "      <td>38</td>\n",
       "      <td>Female</td>\n",
       "      <td>1</td>\n",
       "      <td>1</td>\n",
       "      <td>20</td>\n",
       "      <td>70.00</td>\n",
       "    </tr>\n",
       "    <tr>\n",
       "      <th>2</th>\n",
       "      <td>39</td>\n",
       "      <td>Female</td>\n",
       "      <td>0</td>\n",
       "      <td>0</td>\n",
       "      <td>21</td>\n",
       "      <td>60.25</td>\n",
       "    </tr>\n",
       "    <tr>\n",
       "      <th>3</th>\n",
       "      <td>32</td>\n",
       "      <td>Female</td>\n",
       "      <td>0</td>\n",
       "      <td>1</td>\n",
       "      <td>25</td>\n",
       "      <td>51.25</td>\n",
       "    </tr>\n",
       "    <tr>\n",
       "      <th>4</th>\n",
       "      <td>24</td>\n",
       "      <td>Female</td>\n",
       "      <td>1</td>\n",
       "      <td>1</td>\n",
       "      <td>26</td>\n",
       "      <td>31.50</td>\n",
       "    </tr>\n",
       "  </tbody>\n",
       "</table>\n",
       "</div>"
      ],
      "text/plain": [
       "   Age  Gender  Blood_Pressure  Family_member_with_Diabetes_past_present  BMI  \\\n",
       "0   40    Male               1                                         0   28   \n",
       "1   38  Female               1                                         1   20   \n",
       "2   39  Female               0                                         0   21   \n",
       "3   32  Female               0                                         1   25   \n",
       "4   24  Female               1                                         1   26   \n",
       "\n",
       "   percentage_diabetes  \n",
       "0                62.00  \n",
       "1                70.00  \n",
       "2                60.25  \n",
       "3                51.25  \n",
       "4                31.50  "
      ]
     },
     "execution_count": 17,
     "metadata": {},
     "output_type": "execute_result"
    }
   ],
   "source": [
    "df_demo = pd.read_csv('useful/Diab_pyth_data.csv')\n",
    "df_demo.head()"
   ]
  },
  {
   "cell_type": "code",
   "execution_count": 18,
   "id": "3bf27665",
   "metadata": {},
   "outputs": [
    {
     "data": {
      "text/html": [
       "<div>\n",
       "<style scoped>\n",
       "    .dataframe tbody tr th:only-of-type {\n",
       "        vertical-align: middle;\n",
       "    }\n",
       "\n",
       "    .dataframe tbody tr th {\n",
       "        vertical-align: top;\n",
       "    }\n",
       "\n",
       "    .dataframe thead th {\n",
       "        text-align: right;\n",
       "    }\n",
       "</style>\n",
       "<table border=\"1\" class=\"dataframe\">\n",
       "  <thead>\n",
       "    <tr style=\"text-align: right;\">\n",
       "      <th></th>\n",
       "      <th>Age</th>\n",
       "      <th>Gender</th>\n",
       "      <th>Blood_Pressure</th>\n",
       "      <th>Family_member_with_Diabetes_past_present</th>\n",
       "      <th>BMI</th>\n",
       "      <th>percentage_diabetes</th>\n",
       "    </tr>\n",
       "  </thead>\n",
       "  <tbody>\n",
       "    <tr>\n",
       "      <th>0</th>\n",
       "      <td>40</td>\n",
       "      <td>1</td>\n",
       "      <td>1</td>\n",
       "      <td>0</td>\n",
       "      <td>28</td>\n",
       "      <td>62.00</td>\n",
       "    </tr>\n",
       "    <tr>\n",
       "      <th>1</th>\n",
       "      <td>38</td>\n",
       "      <td>0</td>\n",
       "      <td>1</td>\n",
       "      <td>1</td>\n",
       "      <td>20</td>\n",
       "      <td>70.00</td>\n",
       "    </tr>\n",
       "    <tr>\n",
       "      <th>2</th>\n",
       "      <td>39</td>\n",
       "      <td>0</td>\n",
       "      <td>0</td>\n",
       "      <td>0</td>\n",
       "      <td>21</td>\n",
       "      <td>60.25</td>\n",
       "    </tr>\n",
       "    <tr>\n",
       "      <th>3</th>\n",
       "      <td>32</td>\n",
       "      <td>0</td>\n",
       "      <td>0</td>\n",
       "      <td>1</td>\n",
       "      <td>25</td>\n",
       "      <td>51.25</td>\n",
       "    </tr>\n",
       "    <tr>\n",
       "      <th>4</th>\n",
       "      <td>24</td>\n",
       "      <td>0</td>\n",
       "      <td>1</td>\n",
       "      <td>1</td>\n",
       "      <td>26</td>\n",
       "      <td>31.50</td>\n",
       "    </tr>\n",
       "  </tbody>\n",
       "</table>\n",
       "</div>"
      ],
      "text/plain": [
       "   Age  Gender  Blood_Pressure  Family_member_with_Diabetes_past_present  BMI  \\\n",
       "0   40       1               1                                         0   28   \n",
       "1   38       0               1                                         1   20   \n",
       "2   39       0               0                                         0   21   \n",
       "3   32       0               0                                         1   25   \n",
       "4   24       0               1                                         1   26   \n",
       "\n",
       "   percentage_diabetes  \n",
       "0                62.00  \n",
       "1                70.00  \n",
       "2                60.25  \n",
       "3                51.25  \n",
       "4                31.50  "
      ]
     },
     "execution_count": 18,
     "metadata": {},
     "output_type": "execute_result"
    }
   ],
   "source": [
    "# converting categorical variable into numerical\n",
    "from sklearn import preprocessing\n",
    "label_encoder = preprocessing.LabelEncoder()\n",
    "df_demo['Gender'] =  label_encoder.fit_transform(df_demo['Gender'])\n",
    "    \n",
    "df_demo.head()"
   ]
  },
  {
   "cell_type": "code",
   "execution_count": 19,
   "id": "fa77073a",
   "metadata": {},
   "outputs": [],
   "source": [
    "x_var1 = df_demo.iloc[:,0:-1]\n",
    "y_var1 = df_demo.iloc[:,-1]"
   ]
  },
  {
   "cell_type": "code",
   "execution_count": 20,
   "id": "281e133b",
   "metadata": {},
   "outputs": [],
   "source": [
    "from sklearn.model_selection import train_test_split\n",
    "X_train1,X_test1,y_train1,y_test1 = train_test_split(x_var1,y_var1, test_size = 0.3, random_state=42)"
   ]
  },
  {
   "cell_type": "code",
   "execution_count": 21,
   "id": "454475ce",
   "metadata": {},
   "outputs": [],
   "source": [
    "# normalise the columns using standard scalar\n",
    "scalar_demo = StandardScaler()\n",
    "X_train1 = scalar_demo.fit_transform(X_train1)\n",
    "X_test1 = scalar_demo.transform(X_test1)"
   ]
  },
  {
   "cell_type": "code",
   "execution_count": 35,
   "id": "91900a3d",
   "metadata": {},
   "outputs": [],
   "source": [
    "#dataset 2 scalar file\n",
    "pickle.dump(scalar_demo,open('scalar_demo.pkl','wb'))"
   ]
  },
  {
   "cell_type": "code",
   "execution_count": 22,
   "id": "fee9f2da",
   "metadata": {},
   "outputs": [
    {
     "data": {
      "text/plain": [
       "DecisionTreeRegressor(criterion='mse')"
      ]
     },
     "execution_count": 22,
     "metadata": {},
     "output_type": "execute_result"
    }
   ],
   "source": [
    "#model trained using decision tree\n",
    "dtree = DecisionTreeRegressor(criterion='mse')\n",
    "dtree.fit(X_train1, y_train1)"
   ]
  },
  {
   "cell_type": "code",
   "execution_count": 23,
   "id": "0ffafbab",
   "metadata": {},
   "outputs": [
    {
     "name": "stdout",
     "output_type": "stream",
     "text": [
      "Mean Absolute Error: 15.79\n"
     ]
    }
   ],
   "source": [
    "y_pred_demo = dtree.predict(X_test1)\n",
    "mae = mean_absolute_error(y_test1, y_pred_demo)\n",
    "print(\"Mean Absolute Error: {:.2f}\".format(mae))"
   ]
  },
  {
   "cell_type": "markdown",
   "id": "6a98d28d",
   "metadata": {},
   "source": [
    "### Combine prediction"
   ]
  },
  {
   "cell_type": "code",
   "execution_count": 24,
   "id": "4c5f8e56",
   "metadata": {},
   "outputs": [
    {
     "name": "stdout",
     "output_type": "stream",
     "text": [
      "[[1.23973793 0.83971912 1.19087439 1.20953006 1.22859023 1.7765838\n",
      "  1.47196014 1.44672847]]\n",
      "[[1.62552335 0.99935605 1.01200523 0.99502215 1.54760889]]\n"
     ]
    }
   ],
   "source": [
    "#user input dataset1\n",
    "#'Age','Gender','Frequent_Urination','Frequent_Thirst','Weakness','Excessive_Eating','Delayed_Healing','Partial_Paresis']]\n",
    "user_symptom = np.array([40, 1, 1, 1, 1, 1, 1, 1])\n",
    "user_symptom = user_symptom.reshape(1, -1)\n",
    "\n",
    "#user input dataset2\n",
    "#Age,Gender,Blood_Pressure,Family_member_with_Diabetes_past_present,BMI\n",
    "user_demo = np.array([40,1,1,1,39])\n",
    "user_demo = user_demo.reshape(1, -1)\n",
    "\n",
    "# apply the scaler on the input array\n",
    "user_symptom_scaled = scalar_symptom.transform(user_symptom)\n",
    "user_demo_scaled = scalar_demo.transform(user_demo)\n",
    "\n",
    "print(user_symptom_scaled)\n",
    "print(user_demo_scaled)"
   ]
  },
  {
   "cell_type": "code",
   "execution_count": 25,
   "id": "152380d2",
   "metadata": {},
   "outputs": [
    {
     "name": "stdout",
     "output_type": "stream",
     "text": [
      "1/1 [==============================] - 0s 13ms/step\n"
     ]
    }
   ],
   "source": [
    "#prediction\n",
    "pred_user_symptom = soft_max_model.predict(user_symptom_scaled)\n",
    "pred_user_demo = dtree.predict(user_demo_scaled)"
   ]
  },
  {
   "cell_type": "code",
   "execution_count": 26,
   "id": "28f79557",
   "metadata": {},
   "outputs": [
    {
     "data": {
      "text/plain": [
       "86.13027334213257"
      ]
     },
     "execution_count": 26,
     "metadata": {},
     "output_type": "execute_result"
    }
   ],
   "source": [
    "pred_user_symptom[0][1]* 100"
   ]
  },
  {
   "cell_type": "code",
   "execution_count": 27,
   "id": "46126528",
   "metadata": {},
   "outputs": [
    {
     "data": {
      "text/plain": [
       "79.5"
      ]
     },
     "execution_count": 27,
     "metadata": {},
     "output_type": "execute_result"
    }
   ],
   "source": [
    "pred_user_demo[0]"
   ]
  },
  {
   "cell_type": "code",
   "execution_count": 28,
   "id": "27b2b956",
   "metadata": {},
   "outputs": [
    {
     "data": {
      "text/plain": [
       "82.81513667106628"
      ]
     },
     "execution_count": 28,
     "metadata": {},
     "output_type": "execute_result"
    }
   ],
   "source": [
    "(pred_user_demo[0] + pred_user_symptom[0][1]* 100)/2"
   ]
  },
  {
   "cell_type": "markdown",
   "id": "c0f8535e",
   "metadata": {},
   "source": [
    "### Pickle file"
   ]
  },
  {
   "cell_type": "code",
   "execution_count": 29,
   "id": "15b96c3a",
   "metadata": {},
   "outputs": [],
   "source": [
    "import pickle\n",
    "#dataset 1\n",
    "pickle.dump(soft_max_model,open('model_symptom.pkl','wb'))"
   ]
  },
  {
   "cell_type": "code",
   "execution_count": 30,
   "id": "1bf0f1d3",
   "metadata": {},
   "outputs": [],
   "source": [
    "model_symptom = pickle.load(open('model_symptom.pkl','rb'))"
   ]
  },
  {
   "cell_type": "code",
   "execution_count": 31,
   "id": "89722e79",
   "metadata": {},
   "outputs": [
    {
     "name": "stdout",
     "output_type": "stream",
     "text": [
      "1/1 [==============================] - 0s 37ms/step\n"
     ]
    },
    {
     "data": {
      "text/plain": [
       "array([[0.13869733, 0.86130273]], dtype=float32)"
      ]
     },
     "execution_count": 31,
     "metadata": {},
     "output_type": "execute_result"
    }
   ],
   "source": [
    "model_symptom.predict(user_symptom_scaled)"
   ]
  },
  {
   "cell_type": "code",
   "execution_count": 32,
   "id": "ea51eb93",
   "metadata": {},
   "outputs": [],
   "source": [
    "#dataset2\n",
    "pickle.dump(dtree,open('model_demo.pkl','wb'))"
   ]
  },
  {
   "cell_type": "code",
   "execution_count": 33,
   "id": "e79b31e7",
   "metadata": {},
   "outputs": [],
   "source": [
    "model_demo = pickle.load(open('model_demo.pkl','rb'))"
   ]
  },
  {
   "cell_type": "code",
   "execution_count": 34,
   "id": "4128f141",
   "metadata": {},
   "outputs": [
    {
     "data": {
      "text/plain": [
       "array([79.5])"
      ]
     },
     "execution_count": 34,
     "metadata": {},
     "output_type": "execute_result"
    }
   ],
   "source": [
    "model_demo.predict(user_demo_scaled)"
   ]
  }
 ],
 "metadata": {
  "kernelspec": {
   "display_name": "Python 3 (ipykernel)",
   "language": "python",
   "name": "python3"
  },
  "language_info": {
   "codemirror_mode": {
    "name": "ipython",
    "version": 3
   },
   "file_extension": ".py",
   "mimetype": "text/x-python",
   "name": "python",
   "nbconvert_exporter": "python",
   "pygments_lexer": "ipython3",
   "version": "3.9.13"
  }
 },
 "nbformat": 4,
 "nbformat_minor": 5
}
