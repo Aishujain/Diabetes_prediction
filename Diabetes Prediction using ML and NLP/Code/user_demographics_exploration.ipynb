{
 "cells": [
  {
   "cell_type": "markdown",
   "id": "05207731",
   "metadata": {},
   "source": [
    "## Diab_pyth_data.csv dataset exploration, analysis and model comparision"
   ]
  },
  {
   "cell_type": "code",
   "execution_count": 1,
   "id": "68d3b320",
   "metadata": {},
   "outputs": [],
   "source": [
    "import pandas as pd\n",
    "from sklearn.model_selection import train_test_split, cross_val_score\n",
    "from sklearn.ensemble import RandomForestClassifier\n",
    "from sklearn.metrics import accuracy_score\n",
    "import numpy as np\n",
    "import seaborn as sns\n",
    "import matplotlib as plt"
   ]
  },
  {
   "cell_type": "code",
   "execution_count": 3,
   "id": "ba66937f",
   "metadata": {},
   "outputs": [],
   "source": [
    "df_demo = pd.read_csv('useful/Diab_pyth_data.csv')"
   ]
  },
  {
   "cell_type": "code",
   "execution_count": 4,
   "id": "55535674",
   "metadata": {},
   "outputs": [
    {
     "data": {
      "text/html": [
       "<div>\n",
       "<style scoped>\n",
       "    .dataframe tbody tr th:only-of-type {\n",
       "        vertical-align: middle;\n",
       "    }\n",
       "\n",
       "    .dataframe tbody tr th {\n",
       "        vertical-align: top;\n",
       "    }\n",
       "\n",
       "    .dataframe thead th {\n",
       "        text-align: right;\n",
       "    }\n",
       "</style>\n",
       "<table border=\"1\" class=\"dataframe\">\n",
       "  <thead>\n",
       "    <tr style=\"text-align: right;\">\n",
       "      <th></th>\n",
       "      <th>Age</th>\n",
       "      <th>Gender</th>\n",
       "      <th>Blood_Pressure</th>\n",
       "      <th>Family_member_with_Diabetes_past_present</th>\n",
       "      <th>BMI</th>\n",
       "      <th>percentage_diabetes</th>\n",
       "    </tr>\n",
       "  </thead>\n",
       "  <tbody>\n",
       "    <tr>\n",
       "      <th>0</th>\n",
       "      <td>40</td>\n",
       "      <td>Male</td>\n",
       "      <td>1</td>\n",
       "      <td>0</td>\n",
       "      <td>28</td>\n",
       "      <td>62.00</td>\n",
       "    </tr>\n",
       "    <tr>\n",
       "      <th>1</th>\n",
       "      <td>38</td>\n",
       "      <td>Female</td>\n",
       "      <td>1</td>\n",
       "      <td>1</td>\n",
       "      <td>20</td>\n",
       "      <td>70.00</td>\n",
       "    </tr>\n",
       "    <tr>\n",
       "      <th>2</th>\n",
       "      <td>39</td>\n",
       "      <td>Female</td>\n",
       "      <td>0</td>\n",
       "      <td>0</td>\n",
       "      <td>21</td>\n",
       "      <td>60.25</td>\n",
       "    </tr>\n",
       "    <tr>\n",
       "      <th>3</th>\n",
       "      <td>32</td>\n",
       "      <td>Female</td>\n",
       "      <td>0</td>\n",
       "      <td>1</td>\n",
       "      <td>25</td>\n",
       "      <td>51.25</td>\n",
       "    </tr>\n",
       "    <tr>\n",
       "      <th>4</th>\n",
       "      <td>24</td>\n",
       "      <td>Female</td>\n",
       "      <td>1</td>\n",
       "      <td>1</td>\n",
       "      <td>26</td>\n",
       "      <td>31.50</td>\n",
       "    </tr>\n",
       "    <tr>\n",
       "      <th>...</th>\n",
       "      <td>...</td>\n",
       "      <td>...</td>\n",
       "      <td>...</td>\n",
       "      <td>...</td>\n",
       "      <td>...</td>\n",
       "      <td>...</td>\n",
       "    </tr>\n",
       "    <tr>\n",
       "      <th>6580</th>\n",
       "      <td>27</td>\n",
       "      <td>Male</td>\n",
       "      <td>0</td>\n",
       "      <td>1</td>\n",
       "      <td>31</td>\n",
       "      <td>37.75</td>\n",
       "    </tr>\n",
       "    <tr>\n",
       "      <th>6581</th>\n",
       "      <td>31</td>\n",
       "      <td>Male</td>\n",
       "      <td>0</td>\n",
       "      <td>1</td>\n",
       "      <td>28</td>\n",
       "      <td>37.00</td>\n",
       "    </tr>\n",
       "    <tr>\n",
       "      <th>6582</th>\n",
       "      <td>38</td>\n",
       "      <td>Male</td>\n",
       "      <td>0</td>\n",
       "      <td>0</td>\n",
       "      <td>29</td>\n",
       "      <td>57.25</td>\n",
       "    </tr>\n",
       "    <tr>\n",
       "      <th>6583</th>\n",
       "      <td>28</td>\n",
       "      <td>Male</td>\n",
       "      <td>1</td>\n",
       "      <td>1</td>\n",
       "      <td>22</td>\n",
       "      <td>45.50</td>\n",
       "    </tr>\n",
       "    <tr>\n",
       "      <th>6584</th>\n",
       "      <td>39</td>\n",
       "      <td>Female</td>\n",
       "      <td>0</td>\n",
       "      <td>0</td>\n",
       "      <td>14</td>\n",
       "      <td>43.50</td>\n",
       "    </tr>\n",
       "  </tbody>\n",
       "</table>\n",
       "<p>6585 rows × 6 columns</p>\n",
       "</div>"
      ],
      "text/plain": [
       "      Age  Gender  Blood_Pressure  Family_member_with_Diabetes_past_present  \\\n",
       "0      40    Male               1                                         0   \n",
       "1      38  Female               1                                         1   \n",
       "2      39  Female               0                                         0   \n",
       "3      32  Female               0                                         1   \n",
       "4      24  Female               1                                         1   \n",
       "...   ...     ...             ...                                       ...   \n",
       "6580   27    Male               0                                         1   \n",
       "6581   31    Male               0                                         1   \n",
       "6582   38    Male               0                                         0   \n",
       "6583   28    Male               1                                         1   \n",
       "6584   39  Female               0                                         0   \n",
       "\n",
       "      BMI  percentage_diabetes  \n",
       "0      28                62.00  \n",
       "1      20                70.00  \n",
       "2      21                60.25  \n",
       "3      25                51.25  \n",
       "4      26                31.50  \n",
       "...   ...                  ...  \n",
       "6580   31                37.75  \n",
       "6581   28                37.00  \n",
       "6582   29                57.25  \n",
       "6583   22                45.50  \n",
       "6584   14                43.50  \n",
       "\n",
       "[6585 rows x 6 columns]"
      ]
     },
     "execution_count": 4,
     "metadata": {},
     "output_type": "execute_result"
    }
   ],
   "source": [
    "df_demo"
   ]
  },
  {
   "cell_type": "code",
   "execution_count": 7,
   "id": "77085fae",
   "metadata": {},
   "outputs": [
    {
     "data": {
      "text/plain": [
       "Age                                           int64\n",
       "Gender                                       object\n",
       "Blood_Pressure                                int64\n",
       "Family_member_with_Diabetes_past_present      int64\n",
       "BMI                                           int64\n",
       "percentage_diabetes                         float64\n",
       "dtype: object"
      ]
     },
     "execution_count": 7,
     "metadata": {},
     "output_type": "execute_result"
    }
   ],
   "source": [
    "df_demo.dtypes"
   ]
  },
  {
   "cell_type": "code",
   "execution_count": 8,
   "id": "adccac80",
   "metadata": {},
   "outputs": [
    {
     "name": "stdout",
     "output_type": "stream",
     "text": [
      "<class 'pandas.core.frame.DataFrame'>\n",
      "RangeIndex: 6585 entries, 0 to 6584\n",
      "Data columns (total 6 columns):\n",
      " #   Column                                    Non-Null Count  Dtype  \n",
      "---  ------                                    --------------  -----  \n",
      " 0   Age                                       6585 non-null   int64  \n",
      " 1   Gender                                    6585 non-null   object \n",
      " 2   Blood_Pressure                            6585 non-null   int64  \n",
      " 3   Family_member_with_Diabetes_past_present  6585 non-null   int64  \n",
      " 4   BMI                                       6585 non-null   int64  \n",
      " 5   percentage_diabetes                       6585 non-null   float64\n",
      "dtypes: float64(1), int64(4), object(1)\n",
      "memory usage: 308.8+ KB\n"
     ]
    }
   ],
   "source": [
    "df.info()"
   ]
  },
  {
   "cell_type": "code",
   "execution_count": 9,
   "id": "6352292c",
   "metadata": {},
   "outputs": [
    {
     "data": {
      "text/html": [
       "<div>\n",
       "<style scoped>\n",
       "    .dataframe tbody tr th:only-of-type {\n",
       "        vertical-align: middle;\n",
       "    }\n",
       "\n",
       "    .dataframe tbody tr th {\n",
       "        vertical-align: top;\n",
       "    }\n",
       "\n",
       "    .dataframe thead th {\n",
       "        text-align: right;\n",
       "    }\n",
       "</style>\n",
       "<table border=\"1\" class=\"dataframe\">\n",
       "  <thead>\n",
       "    <tr style=\"text-align: right;\">\n",
       "      <th></th>\n",
       "      <th>Age</th>\n",
       "      <th>Gender</th>\n",
       "      <th>Blood_Pressure</th>\n",
       "      <th>Family_member_with_Diabetes_past_present</th>\n",
       "      <th>BMI</th>\n",
       "      <th>percentage_diabetes</th>\n",
       "    </tr>\n",
       "  </thead>\n",
       "  <tbody>\n",
       "    <tr>\n",
       "      <th>count</th>\n",
       "      <td>6585.000000</td>\n",
       "      <td>6585</td>\n",
       "      <td>6585.000000</td>\n",
       "      <td>6585.000000</td>\n",
       "      <td>6585.000000</td>\n",
       "      <td>6585.000000</td>\n",
       "    </tr>\n",
       "    <tr>\n",
       "      <th>unique</th>\n",
       "      <td>NaN</td>\n",
       "      <td>3</td>\n",
       "      <td>NaN</td>\n",
       "      <td>NaN</td>\n",
       "      <td>NaN</td>\n",
       "      <td>NaN</td>\n",
       "    </tr>\n",
       "    <tr>\n",
       "      <th>top</th>\n",
       "      <td>NaN</td>\n",
       "      <td>Female</td>\n",
       "      <td>NaN</td>\n",
       "      <td>NaN</td>\n",
       "      <td>NaN</td>\n",
       "      <td>NaN</td>\n",
       "    </tr>\n",
       "    <tr>\n",
       "      <th>freq</th>\n",
       "      <td>NaN</td>\n",
       "      <td>3291</td>\n",
       "      <td>NaN</td>\n",
       "      <td>NaN</td>\n",
       "      <td>NaN</td>\n",
       "      <td>NaN</td>\n",
       "    </tr>\n",
       "    <tr>\n",
       "      <th>mean</th>\n",
       "      <td>29.144875</td>\n",
       "      <td>NaN</td>\n",
       "      <td>0.496128</td>\n",
       "      <td>0.497646</td>\n",
       "      <td>27.034624</td>\n",
       "      <td>46.042635</td>\n",
       "    </tr>\n",
       "    <tr>\n",
       "      <th>std</th>\n",
       "      <td>6.684272</td>\n",
       "      <td>NaN</td>\n",
       "      <td>0.500023</td>\n",
       "      <td>0.500032</td>\n",
       "      <td>7.727121</td>\n",
       "      <td>16.210711</td>\n",
       "    </tr>\n",
       "    <tr>\n",
       "      <th>min</th>\n",
       "      <td>18.000000</td>\n",
       "      <td>NaN</td>\n",
       "      <td>0.000000</td>\n",
       "      <td>0.000000</td>\n",
       "      <td>14.000000</td>\n",
       "      <td>3.500000</td>\n",
       "    </tr>\n",
       "    <tr>\n",
       "      <th>25%</th>\n",
       "      <td>23.000000</td>\n",
       "      <td>NaN</td>\n",
       "      <td>0.000000</td>\n",
       "      <td>0.000000</td>\n",
       "      <td>20.000000</td>\n",
       "      <td>34.750000</td>\n",
       "    </tr>\n",
       "    <tr>\n",
       "      <th>50%</th>\n",
       "      <td>29.000000</td>\n",
       "      <td>NaN</td>\n",
       "      <td>0.000000</td>\n",
       "      <td>0.000000</td>\n",
       "      <td>27.000000</td>\n",
       "      <td>45.750000</td>\n",
       "    </tr>\n",
       "    <tr>\n",
       "      <th>75%</th>\n",
       "      <td>35.000000</td>\n",
       "      <td>NaN</td>\n",
       "      <td>1.000000</td>\n",
       "      <td>1.000000</td>\n",
       "      <td>34.000000</td>\n",
       "      <td>58.500000</td>\n",
       "    </tr>\n",
       "    <tr>\n",
       "      <th>max</th>\n",
       "      <td>40.000000</td>\n",
       "      <td>NaN</td>\n",
       "      <td>1.000000</td>\n",
       "      <td>1.000000</td>\n",
       "      <td>40.000000</td>\n",
       "      <td>89.500000</td>\n",
       "    </tr>\n",
       "  </tbody>\n",
       "</table>\n",
       "</div>"
      ],
      "text/plain": [
       "                Age  Gender  Blood_Pressure  \\\n",
       "count   6585.000000    6585     6585.000000   \n",
       "unique          NaN       3             NaN   \n",
       "top             NaN  Female             NaN   \n",
       "freq            NaN    3291             NaN   \n",
       "mean      29.144875     NaN        0.496128   \n",
       "std        6.684272     NaN        0.500023   \n",
       "min       18.000000     NaN        0.000000   \n",
       "25%       23.000000     NaN        0.000000   \n",
       "50%       29.000000     NaN        0.000000   \n",
       "75%       35.000000     NaN        1.000000   \n",
       "max       40.000000     NaN        1.000000   \n",
       "\n",
       "        Family_member_with_Diabetes_past_present          BMI  \\\n",
       "count                                6585.000000  6585.000000   \n",
       "unique                                       NaN          NaN   \n",
       "top                                          NaN          NaN   \n",
       "freq                                         NaN          NaN   \n",
       "mean                                    0.497646    27.034624   \n",
       "std                                     0.500032     7.727121   \n",
       "min                                     0.000000    14.000000   \n",
       "25%                                     0.000000    20.000000   \n",
       "50%                                     0.000000    27.000000   \n",
       "75%                                     1.000000    34.000000   \n",
       "max                                     1.000000    40.000000   \n",
       "\n",
       "        percentage_diabetes  \n",
       "count           6585.000000  \n",
       "unique                  NaN  \n",
       "top                     NaN  \n",
       "freq                    NaN  \n",
       "mean              46.042635  \n",
       "std               16.210711  \n",
       "min                3.500000  \n",
       "25%               34.750000  \n",
       "50%               45.750000  \n",
       "75%               58.500000  \n",
       "max               89.500000  "
      ]
     },
     "execution_count": 9,
     "metadata": {},
     "output_type": "execute_result"
    }
   ],
   "source": [
    "df_demo.describe(include='all')"
   ]
  },
  {
   "cell_type": "code",
   "execution_count": 10,
   "id": "9bbffa79",
   "metadata": {},
   "outputs": [
    {
     "data": {
      "text/plain": [
       "<AxesSubplot:>"
      ]
     },
     "execution_count": 10,
     "metadata": {},
     "output_type": "execute_result"
    },
    {
     "data": {
      "image/png": "[encoded data removed]",
      "text/plain": [
       "<Figure size 640x480 with 2 Axes>"
      ]
     },
     "metadata": {},
     "output_type": "display_data"
    }
   ],
   "source": [
    "sns.heatmap(df_demo.isnull())"
   ]
  },
  {
   "cell_type": "code",
   "execution_count": 14,
   "id": "bed997dd",
   "metadata": {},
   "outputs": [
    {
     "data": {
      "text/plain": [
       "Age                                         0\n",
       "Gender                                      0\n",
       "Blood_Pressure                              0\n",
       "Family_member_with_Diabetes_past_present    0\n",
       "BMI                                         0\n",
       "percentage_diabetes                         0\n",
       "dtype: int64"
      ]
     },
     "execution_count": 14,
     "metadata": {},
     "output_type": "execute_result"
    }
   ],
   "source": [
    "df_demo.isnull().sum(axis=0)"
   ]
  },
  {
   "cell_type": "code",
   "execution_count": 17,
   "id": "34257acc",
   "metadata": {},
   "outputs": [
    {
     "data": {
      "text/html": [
       "<div>\n",
       "<style scoped>\n",
       "    .dataframe tbody tr th:only-of-type {\n",
       "        vertical-align: middle;\n",
       "    }\n",
       "\n",
       "    .dataframe tbody tr th {\n",
       "        vertical-align: top;\n",
       "    }\n",
       "\n",
       "    .dataframe thead th {\n",
       "        text-align: right;\n",
       "    }\n",
       "</style>\n",
       "<table border=\"1\" class=\"dataframe\">\n",
       "  <thead>\n",
       "    <tr style=\"text-align: right;\">\n",
       "      <th></th>\n",
       "      <th>Age</th>\n",
       "      <th>Gender</th>\n",
       "      <th>Blood_Pressure</th>\n",
       "      <th>Family_member_with_Diabetes_past_present</th>\n",
       "      <th>BMI</th>\n",
       "      <th>percentage_diabetes</th>\n",
       "    </tr>\n",
       "  </thead>\n",
       "  <tbody>\n",
       "    <tr>\n",
       "      <th>0</th>\n",
       "      <td>40</td>\n",
       "      <td>1</td>\n",
       "      <td>1</td>\n",
       "      <td>0</td>\n",
       "      <td>28</td>\n",
       "      <td>62.00</td>\n",
       "    </tr>\n",
       "    <tr>\n",
       "      <th>1</th>\n",
       "      <td>38</td>\n",
       "      <td>0</td>\n",
       "      <td>1</td>\n",
       "      <td>1</td>\n",
       "      <td>20</td>\n",
       "      <td>70.00</td>\n",
       "    </tr>\n",
       "    <tr>\n",
       "      <th>2</th>\n",
       "      <td>39</td>\n",
       "      <td>0</td>\n",
       "      <td>0</td>\n",
       "      <td>0</td>\n",
       "      <td>21</td>\n",
       "      <td>60.25</td>\n",
       "    </tr>\n",
       "    <tr>\n",
       "      <th>3</th>\n",
       "      <td>32</td>\n",
       "      <td>0</td>\n",
       "      <td>0</td>\n",
       "      <td>1</td>\n",
       "      <td>25</td>\n",
       "      <td>51.25</td>\n",
       "    </tr>\n",
       "    <tr>\n",
       "      <th>4</th>\n",
       "      <td>24</td>\n",
       "      <td>0</td>\n",
       "      <td>1</td>\n",
       "      <td>1</td>\n",
       "      <td>26</td>\n",
       "      <td>31.50</td>\n",
       "    </tr>\n",
       "  </tbody>\n",
       "</table>\n",
       "</div>"
      ],
      "text/plain": [
       "   Age  Gender  Blood_Pressure  Family_member_with_Diabetes_past_present  BMI  \\\n",
       "0   40       1               1                                         0   28   \n",
       "1   38       0               1                                         1   20   \n",
       "2   39       0               0                                         0   21   \n",
       "3   32       0               0                                         1   25   \n",
       "4   24       0               1                                         1   26   \n",
       "\n",
       "   percentage_diabetes  \n",
       "0                62.00  \n",
       "1                70.00  \n",
       "2                60.25  \n",
       "3                51.25  \n",
       "4                31.50  "
      ]
     },
     "execution_count": 17,
     "metadata": {},
     "output_type": "execute_result"
    }
   ],
   "source": [
    "# converting categorical variable into numerical\n",
    "from sklearn import preprocessing\n",
    "label_encoder = preprocessing.LabelEncoder()\n",
    "df_demo['Gender'] =  label_encoder.fit_transform(df_demo['Gender'])\n",
    "    \n",
    "df_demo.head()"
   ]
  },
  {
   "cell_type": "code",
   "execution_count": 26,
   "id": "38a7994c",
   "metadata": {},
   "outputs": [
    {
     "name": "stderr",
     "output_type": "stream",
     "text": [
      "No artists with labels found to put in legend.  Note that artists whose label start with an underscore are ignored when legend() is called with no argument.\n"
     ]
    },
    {
     "data": {
      "image/png": "[encoded data removed]",
      "text/plain": [
       "<Figure size 1700x500 with 1 Axes>"
      ]
     },
     "metadata": {},
     "output_type": "display_data"
    }
   ],
   "source": [
    "import matplotlib.pyplot as plt\n",
    "# Age Vs %diabetes KDE Plot------------------ \n",
    "plt.figure(figsize=(17,5))\n",
    "plt.subplot(1,2,1)\n",
    "plt.title('diabetes density on age',fontsize = 13)\n",
    "sns.kdeplot(x =df_demo['Age'], y = df_demo['percentage_diabetes'],color='blue',shade=True)\n",
    "plt.legend()\n",
    "plt.show()"
   ]
  },
  {
   "cell_type": "code",
   "execution_count": 31,
   "id": "8d4f5d09",
   "metadata": {},
   "outputs": [
    {
     "data": {
      "image/png": "[encoded data removed]",
      "text/plain": [
       "<Figure size 1200x600 with 2 Axes>"
      ]
     },
     "metadata": {},
     "output_type": "display_data"
    }
   ],
   "source": [
    "plt.figure(figsize=(12,6))\n",
    "sns.heatmap(df_demo.corr(),cmap=\"Blues\", annot=True)\n",
    "plt.title('Correlation Heatmap\\n',fontweight='bold',fontsize=14)\n",
    "plt.show()"
   ]
  },
  {
   "cell_type": "code",
   "execution_count": 33,
   "id": "4a8c4cbe",
   "metadata": {},
   "outputs": [],
   "source": [
    "X1 = df_demo.iloc[:,0:-1]\n",
    "y1 = df_demo.iloc[:,-1]"
   ]
  },
  {
   "cell_type": "code",
   "execution_count": 36,
   "id": "38029d05",
   "metadata": {},
   "outputs": [],
   "source": [
    "from sklearn.feature_selection import SelectKBest\n",
    "from sklearn.feature_selection import mutual_info_regression\n",
    "best_feature = SelectKBest(mutual_info_regression,k=2)\n",
    "fit = best_feature.fit(X1,y1)"
   ]
  },
  {
   "cell_type": "code",
   "execution_count": 37,
   "id": "83490c4a",
   "metadata": {},
   "outputs": [],
   "source": [
    "dataset_scores = pd.DataFrame(fit.scores_)\n",
    "dataset_cols = pd.DataFrame(X1.columns)"
   ]
  },
  {
   "cell_type": "code",
   "execution_count": 38,
   "id": "a311ef6f",
   "metadata": {},
   "outputs": [],
   "source": [
    "featurescores = pd.concat([dataset_cols,dataset_scores],axis=1)\n",
    "featurescores.columns=['column','scores']"
   ]
  },
  {
   "cell_type": "code",
   "execution_count": 39,
   "id": "2945e36b",
   "metadata": {},
   "outputs": [
    {
     "data": {
      "text/html": [
       "<div>\n",
       "<style scoped>\n",
       "    .dataframe tbody tr th:only-of-type {\n",
       "        vertical-align: middle;\n",
       "    }\n",
       "\n",
       "    .dataframe tbody tr th {\n",
       "        vertical-align: top;\n",
       "    }\n",
       "\n",
       "    .dataframe thead th {\n",
       "        text-align: right;\n",
       "    }\n",
       "</style>\n",
       "<table border=\"1\" class=\"dataframe\">\n",
       "  <thead>\n",
       "    <tr style=\"text-align: right;\">\n",
       "      <th></th>\n",
       "      <th>column</th>\n",
       "      <th>scores</th>\n",
       "    </tr>\n",
       "  </thead>\n",
       "  <tbody>\n",
       "    <tr>\n",
       "      <th>4</th>\n",
       "      <td>BMI</td>\n",
       "      <td>1.120914</td>\n",
       "    </tr>\n",
       "    <tr>\n",
       "      <th>2</th>\n",
       "      <td>Blood_Pressure</td>\n",
       "      <td>0.103675</td>\n",
       "    </tr>\n",
       "    <tr>\n",
       "      <th>3</th>\n",
       "      <td>Family_member_with_Diabetes_past_present</td>\n",
       "      <td>0.067045</td>\n",
       "    </tr>\n",
       "    <tr>\n",
       "      <th>0</th>\n",
       "      <td>Age</td>\n",
       "      <td>0.011415</td>\n",
       "    </tr>\n",
       "    <tr>\n",
       "      <th>1</th>\n",
       "      <td>Gender</td>\n",
       "      <td>0.005944</td>\n",
       "    </tr>\n",
       "  </tbody>\n",
       "</table>\n",
       "</div>"
      ],
      "text/plain": [
       "                                     column    scores\n",
       "4                                       BMI  1.120914\n",
       "2                            Blood_Pressure  0.103675\n",
       "3  Family_member_with_Diabetes_past_present  0.067045\n",
       "0                                       Age  0.011415\n",
       "1                                    Gender  0.005944"
      ]
     },
     "execution_count": 39,
     "metadata": {},
     "output_type": "execute_result"
    }
   ],
   "source": [
    "featurescores.sort_values('scores', ascending=False)"
   ]
  },
  {
   "cell_type": "code",
   "execution_count": 40,
   "id": "751a1a02",
   "metadata": {},
   "outputs": [
    {
     "data": {
      "text/html": [
       "<div>\n",
       "<style scoped>\n",
       "    .dataframe tbody tr th:only-of-type {\n",
       "        vertical-align: middle;\n",
       "    }\n",
       "\n",
       "    .dataframe tbody tr th {\n",
       "        vertical-align: top;\n",
       "    }\n",
       "\n",
       "    .dataframe thead th {\n",
       "        text-align: right;\n",
       "    }\n",
       "</style>\n",
       "<table border=\"1\" class=\"dataframe\">\n",
       "  <thead>\n",
       "    <tr style=\"text-align: right;\">\n",
       "      <th></th>\n",
       "      <th>Age</th>\n",
       "      <th>Gender</th>\n",
       "      <th>Blood_Pressure</th>\n",
       "      <th>Family_member_with_Diabetes_past_present</th>\n",
       "      <th>BMI</th>\n",
       "      <th>percentage_diabetes</th>\n",
       "    </tr>\n",
       "  </thead>\n",
       "  <tbody>\n",
       "    <tr>\n",
       "      <th>0</th>\n",
       "      <td>1.624103</td>\n",
       "      <td>0.991411</td>\n",
       "      <td>1.007775</td>\n",
       "      <td>-0.995303</td>\n",
       "      <td>0.124943</td>\n",
       "      <td>0.984446</td>\n",
       "    </tr>\n",
       "    <tr>\n",
       "      <th>1</th>\n",
       "      <td>1.324871</td>\n",
       "      <td>-0.997754</td>\n",
       "      <td>1.007775</td>\n",
       "      <td>1.004719</td>\n",
       "      <td>-0.910450</td>\n",
       "      <td>1.477985</td>\n",
       "    </tr>\n",
       "    <tr>\n",
       "      <th>2</th>\n",
       "      <td>1.474487</td>\n",
       "      <td>-0.997754</td>\n",
       "      <td>-0.992285</td>\n",
       "      <td>-0.995303</td>\n",
       "      <td>-0.781026</td>\n",
       "      <td>0.876485</td>\n",
       "    </tr>\n",
       "    <tr>\n",
       "      <th>3</th>\n",
       "      <td>0.427173</td>\n",
       "      <td>-0.997754</td>\n",
       "      <td>-0.992285</td>\n",
       "      <td>1.004719</td>\n",
       "      <td>-0.263329</td>\n",
       "      <td>0.321254</td>\n",
       "    </tr>\n",
       "    <tr>\n",
       "      <th>4</th>\n",
       "      <td>-0.769757</td>\n",
       "      <td>-0.997754</td>\n",
       "      <td>1.007775</td>\n",
       "      <td>1.004719</td>\n",
       "      <td>-0.133905</td>\n",
       "      <td>-0.897168</td>\n",
       "    </tr>\n",
       "  </tbody>\n",
       "</table>\n",
       "</div>"
      ],
      "text/plain": [
       "        Age    Gender  Blood_Pressure  \\\n",
       "0  1.624103  0.991411        1.007775   \n",
       "1  1.324871 -0.997754        1.007775   \n",
       "2  1.474487 -0.997754       -0.992285   \n",
       "3  0.427173 -0.997754       -0.992285   \n",
       "4 -0.769757 -0.997754        1.007775   \n",
       "\n",
       "   Family_member_with_Diabetes_past_present       BMI  percentage_diabetes  \n",
       "0                                 -0.995303  0.124943             0.984446  \n",
       "1                                  1.004719 -0.910450             1.477985  \n",
       "2                                 -0.995303 -0.781026             0.876485  \n",
       "3                                  1.004719 -0.263329             0.321254  \n",
       "4                                  1.004719 -0.133905            -0.897168  "
      ]
     },
     "execution_count": 40,
     "metadata": {},
     "output_type": "execute_result"
    }
   ],
   "source": [
    "from sklearn.preprocessing import StandardScaler\n",
    "scaler = StandardScaler()\n",
    "trans_df = pd.DataFrame(scaler.fit_transform(df_demo), columns = df_demo.columns)\n",
    "trans_df.head()"
   ]
  },
  {
   "cell_type": "code",
   "execution_count": 41,
   "id": "a4121470",
   "metadata": {},
   "outputs": [
    {
     "data": {
      "text/plain": [
       "<AxesSubplot:>"
      ]
     },
     "execution_count": 41,
     "metadata": {},
     "output_type": "execute_result"
    },
    {
     "data": {
      "image/png": "[encoded data removed]",
      "text/plain": [
       "<Figure size 640x480 with 1 Axes>"
      ]
     },
     "metadata": {},
     "output_type": "display_data"
    }
   ],
   "source": [
    "featureview=pd.Series(fit.scores_, index=X1.columns)\n",
    "featureview.plot(kind='barh')"
   ]
  },
  {
   "cell_type": "code",
   "execution_count": 51,
   "id": "6695d873",
   "metadata": {},
   "outputs": [],
   "source": [
    "x_var = df_demo[['Age','Gender','Family_member_with_Diabetes_past_present','BMI']]\n",
    "y_var = df_demo.iloc[:,-1]"
   ]
  },
  {
   "cell_type": "code",
   "execution_count": 59,
   "id": "54195ec2",
   "metadata": {},
   "outputs": [],
   "source": [
    "from sklearn.model_selection import train_test_split\n",
    "X_train,X_test,y_train,y_test = train_test_split(x_var,y_var,test_size = 0.3,random_state=42)"
   ]
  },
  {
   "cell_type": "code",
   "execution_count": 61,
   "id": "fa42754f",
   "metadata": {},
   "outputs": [
    {
     "data": {
      "text/html": [
       "<div>\n",
       "<style scoped>\n",
       "    .dataframe tbody tr th:only-of-type {\n",
       "        vertical-align: middle;\n",
       "    }\n",
       "\n",
       "    .dataframe tbody tr th {\n",
       "        vertical-align: top;\n",
       "    }\n",
       "\n",
       "    .dataframe thead th {\n",
       "        text-align: right;\n",
       "    }\n",
       "</style>\n",
       "<table border=\"1\" class=\"dataframe\">\n",
       "  <thead>\n",
       "    <tr style=\"text-align: right;\">\n",
       "      <th></th>\n",
       "      <th>Age</th>\n",
       "      <th>Gender</th>\n",
       "      <th>Family_member_with_Diabetes_past_present</th>\n",
       "      <th>BMI</th>\n",
       "    </tr>\n",
       "  </thead>\n",
       "  <tbody>\n",
       "    <tr>\n",
       "      <th>3535</th>\n",
       "      <td>38</td>\n",
       "      <td>0</td>\n",
       "      <td>0</td>\n",
       "      <td>20</td>\n",
       "    </tr>\n",
       "    <tr>\n",
       "      <th>3460</th>\n",
       "      <td>32</td>\n",
       "      <td>1</td>\n",
       "      <td>1</td>\n",
       "      <td>35</td>\n",
       "    </tr>\n",
       "    <tr>\n",
       "      <th>5417</th>\n",
       "      <td>32</td>\n",
       "      <td>1</td>\n",
       "      <td>1</td>\n",
       "      <td>21</td>\n",
       "    </tr>\n",
       "    <tr>\n",
       "      <th>4784</th>\n",
       "      <td>20</td>\n",
       "      <td>0</td>\n",
       "      <td>0</td>\n",
       "      <td>15</td>\n",
       "    </tr>\n",
       "    <tr>\n",
       "      <th>4395</th>\n",
       "      <td>40</td>\n",
       "      <td>1</td>\n",
       "      <td>1</td>\n",
       "      <td>40</td>\n",
       "    </tr>\n",
       "    <tr>\n",
       "      <th>...</th>\n",
       "      <td>...</td>\n",
       "      <td>...</td>\n",
       "      <td>...</td>\n",
       "      <td>...</td>\n",
       "    </tr>\n",
       "    <tr>\n",
       "      <th>4931</th>\n",
       "      <td>23</td>\n",
       "      <td>1</td>\n",
       "      <td>0</td>\n",
       "      <td>34</td>\n",
       "    </tr>\n",
       "    <tr>\n",
       "      <th>3264</th>\n",
       "      <td>21</td>\n",
       "      <td>0</td>\n",
       "      <td>1</td>\n",
       "      <td>22</td>\n",
       "    </tr>\n",
       "    <tr>\n",
       "      <th>1653</th>\n",
       "      <td>24</td>\n",
       "      <td>1</td>\n",
       "      <td>0</td>\n",
       "      <td>16</td>\n",
       "    </tr>\n",
       "    <tr>\n",
       "      <th>2607</th>\n",
       "      <td>36</td>\n",
       "      <td>0</td>\n",
       "      <td>0</td>\n",
       "      <td>21</td>\n",
       "    </tr>\n",
       "    <tr>\n",
       "      <th>2732</th>\n",
       "      <td>27</td>\n",
       "      <td>1</td>\n",
       "      <td>1</td>\n",
       "      <td>18</td>\n",
       "    </tr>\n",
       "  </tbody>\n",
       "</table>\n",
       "<p>4609 rows × 4 columns</p>\n",
       "</div>"
      ],
      "text/plain": [
       "      Age  Gender  Family_member_with_Diabetes_past_present  BMI\n",
       "3535   38       0                                         0   20\n",
       "3460   32       1                                         1   35\n",
       "5417   32       1                                         1   21\n",
       "4784   20       0                                         0   15\n",
       "4395   40       1                                         1   40\n",
       "...   ...     ...                                       ...  ...\n",
       "4931   23       1                                         0   34\n",
       "3264   21       0                                         1   22\n",
       "1653   24       1                                         0   16\n",
       "2607   36       0                                         0   21\n",
       "2732   27       1                                         1   18\n",
       "\n",
       "[4609 rows x 4 columns]"
      ]
     },
     "execution_count": 61,
     "metadata": {},
     "output_type": "execute_result"
    }
   ],
   "source": [
    "X_train"
   ]
  },
  {
   "cell_type": "code",
   "execution_count": 62,
   "id": "f9ec4745",
   "metadata": {},
   "outputs": [],
   "source": [
    "from sklearn.preprocessing import StandardScaler\n",
    "ss = StandardScaler()\n",
    "X_train = ss.fit_transform(X_train)\n",
    "X_test = ss.transform(X_test)"
   ]
  },
  {
   "cell_type": "code",
   "execution_count": 63,
   "id": "8e4ff35f",
   "metadata": {},
   "outputs": [
    {
     "data": {
      "text/plain": [
       "array([[ 1.31122428, -0.995466  , -0.99114358, -0.90926563],\n",
       "       [ 0.41047418,  0.99762817,  1.00893556,  1.03140118],\n",
       "       [ 0.41047418,  0.99762817,  1.00893556, -0.77988784],\n",
       "       ...,\n",
       "       [-0.79052597,  0.99762817, -0.99114358, -1.42677677],\n",
       "       [ 1.01097425, -0.995466  , -0.99114358, -0.77988784],\n",
       "       [-0.34015091,  0.99762817,  1.00893556, -1.1680212 ]])"
      ]
     },
     "execution_count": 63,
     "metadata": {},
     "output_type": "execute_result"
    }
   ],
   "source": [
    "X_train"
   ]
  },
  {
   "cell_type": "code",
   "execution_count": 64,
   "id": "d3c84661",
   "metadata": {},
   "outputs": [],
   "source": [
    "# Models\n",
    "from sklearn.linear_model import LogisticRegression\n",
    "from sklearn.neighbors import KNeighborsClassifier\n",
    "from sklearn.tree import DecisionTreeClassifier\n",
    "from sklearn.svm import LinearSVC, SVC\n",
    "from sklearn.neural_network import MLPClassifier\n",
    "from sklearn.ensemble import RandomForestClassifier, GradientBoostingClassifier\n",
    "\n",
    "# Disable warnings\n",
    "import warnings\n",
    "warnings.filterwarnings(\"ignore\")"
   ]
  },
  {
   "cell_type": "code",
   "execution_count": 66,
   "id": "904b2abc",
   "metadata": {},
   "outputs": [
    {
     "name": "stdout",
     "output_type": "stream",
     "text": [
      "Linear Regression trained.\n",
      "K-Nearest Neighbors trained.\n",
      "Decision Tree trained.\n",
      "Support Vector Machine (Linear Kernel) trained.\n",
      "Support Vector Machine (RBF Kernel) trained.\n",
      "Neural Network trained.\n",
      "Random Forest trained.\n",
      "Gradient Boosting trained.\n"
     ]
    }
   ],
   "source": [
    "from sklearn.linear_model import LinearRegression\n",
    "from sklearn.neighbors import KNeighborsRegressor\n",
    "from sklearn.tree import DecisionTreeRegressor\n",
    "from sklearn.svm import LinearSVR, SVR\n",
    "from sklearn.neural_network import MLPRegressor\n",
    "from sklearn.ensemble import RandomForestRegressor, GradientBoostingRegressor\n",
    "\n",
    "models = {\n",
    "    \"Linear Regression\": LinearRegression(),\n",
    "    \"K-Nearest Neighbors\": KNeighborsRegressor(),\n",
    "    \"Decision Tree\": DecisionTreeRegressor(),\n",
    "    \"Support Vector Machine (Linear Kernel)\": LinearSVR(),\n",
    "    \"Support Vector Machine (RBF Kernel)\": SVR(),\n",
    "    \"Neural Network\": MLPRegressor(),\n",
    "    \"Random Forest\": RandomForestRegressor(),\n",
    "    \"Gradient Boosting\": GradientBoostingRegressor()    \n",
    "}\n",
    "\n",
    "for name, model in models.items():\n",
    "    model.fit(X_train, y_train)\n",
    "    print(name + \" trained.\")"
   ]
  },
  {
   "cell_type": "code",
   "execution_count": 68,
   "id": "1afbdf9c",
   "metadata": {},
   "outputs": [
    {
     "name": "stdout",
     "output_type": "stream",
     "text": [
      "Linear Regression average negative MSE: -251.21\n",
      "K-Nearest Neighbors average negative MSE: -297.54\n",
      "Decision Tree average negative MSE: -415.61\n",
      "Support Vector Machine (Linear Kernel) average negative MSE: -252.80\n",
      "Support Vector Machine (RBF Kernel) average negative MSE: -252.36\n",
      "Neural Network average negative MSE: -250.15\n",
      "Random Forest average negative MSE: -323.72\n",
      "Gradient Boosting average negative MSE: -248.19\n"
     ]
    }
   ],
   "source": [
    "for name, model in models.items():\n",
    "    scores = cross_val_score(model, X_train, y_train, scoring='neg_mean_squared_error', cv=5)\n",
    "    print(name, \"average negative MSE: {:.2f}\".format(scores.mean()))"
   ]
  },
  {
   "cell_type": "code",
   "execution_count": 69,
   "id": "3945ed94",
   "metadata": {},
   "outputs": [
    {
     "name": "stdout",
     "output_type": "stream",
     "text": [
      "Linear Regression average negative MSE: -251.21\n",
      "K-Nearest Neighbors average negative MSE: -297.54\n",
      "Decision Tree average negative MSE: -416.39\n",
      "Support Vector Machine (Linear Kernel) average negative MSE: -252.80\n",
      "Support Vector Machine (RBF Kernel) average negative MSE: -252.36\n",
      "Neural Network average negative MSE: -250.05\n",
      "Random Forest average negative MSE: -324.11\n",
      "Gradient Boosting average negative MSE: -248.18\n",
      "\n",
      "Best model: DecisionTreeRegressor()\n"
     ]
    }
   ],
   "source": [
    "best_model = None\n",
    "best_score = float('inf')\n",
    "\n",
    "for name, model in models.items():\n",
    "    scores = cross_val_score(model, X_train, y_train, scoring='neg_mean_squared_error', cv=5)\n",
    "    avg_score = scores.mean()\n",
    "    print(name, \"average negative MSE: {:.2f}\".format(avg_score))\n",
    "    if avg_score < best_score:\n",
    "        best_model = model\n",
    "        best_score = avg_score\n",
    "\n",
    "print(\"\\nBest model:\", best_model)"
   ]
  },
  {
   "cell_type": "code",
   "execution_count": 72,
   "id": "8f49d00e",
   "metadata": {},
   "outputs": [
    {
     "data": {
      "text/plain": [
       "DecisionTreeRegressor(criterion='mse')"
      ]
     },
     "execution_count": 72,
     "metadata": {},
     "output_type": "execute_result"
    }
   ],
   "source": [
    "from sklearn.tree import DecisionTreeRegressor\n",
    "dc = DecisionTreeRegressor(criterion='mse')\n",
    "dc.fit(X_train, y_train)"
   ]
  },
  {
   "cell_type": "code",
   "execution_count": 75,
   "id": "34be689c",
   "metadata": {},
   "outputs": [
    {
     "name": "stdout",
     "output_type": "stream",
     "text": [
      "MSE: -396.97\n"
     ]
    }
   ],
   "source": [
    "# from sklearn.tree import DecisionTreeRegressor\n",
    "# from sklearn.model_selection import cross_val_score\n",
    "\n",
    "# dc = DecisionTreeRegressor(criterion='mse')\n",
    "scores = cross_val_score(dc, X_train, y_train, scoring='neg_mean_squared_error', cv=10)\n",
    "print(\"MSE: {:.2f}\".format(scores.mean()))\n"
   ]
  },
  {
   "cell_type": "code",
   "execution_count": 77,
   "id": "0f7330a0",
   "metadata": {},
   "outputs": [
    {
     "name": "stdout",
     "output_type": "stream",
     "text": [
      "Mean Absolute Error: 16.12\n"
     ]
    }
   ],
   "source": [
    "from sklearn.metrics import mean_absolute_error\n",
    "y_pred = dc.predict(X_test)\n",
    "\n",
    "mae = mean_absolute_error(y_test, y_pred)\n",
    "\n",
    "print(\"Mean Absolute Error: {:.2f}\".format(mae))"
   ]
  },
  {
   "cell_type": "code",
   "execution_count": 80,
   "id": "7f0342c4",
   "metadata": {},
   "outputs": [
    {
     "name": "stdout",
     "output_type": "stream",
     "text": [
      "Mean squared error: 400.631\n",
      "Cross-validation scores: [-430.71437395 -424.12933086 -399.30077278 -403.14022204 -425.86278502]\n",
      "Average cross-validation score: 416.629\n"
     ]
    }
   ],
   "source": [
    "from sklearn.tree import DecisionTreeRegressor\n",
    "from sklearn.metrics import mean_squared_error\n",
    "from sklearn.model_selection import cross_val_score\n",
    "# Calculate the mean squared error on the test data\n",
    "mse = mean_squared_error(y_test, y_pred)\n",
    "\n",
    "# Print the mean squared error\n",
    "print('Mean squared error: {:.3f}'.format(mse))\n",
    "\n",
    "# Evaluate the model using 5-fold cross-validation\n",
    "cv_scores = cross_val_score(dc, X_train, y_train, cv=5, scoring='neg_mean_squared_error')\n",
    "\n",
    "# Print the cross-validation scores\n",
    "print('Cross-validation scores: {}'.format(cv_scores))\n",
    "print('Average cross-validation score: {:.3f}'.format(-cv_scores.mean()))\n"
   ]
  },
  {
   "cell_type": "code",
   "execution_count": 86,
   "id": "d2cb14e1",
   "metadata": {},
   "outputs": [
    {
     "name": "stdout",
     "output_type": "stream",
     "text": [
      "[[ 1.61147432  0.99762817 -0.99114358  0.12575667]]\n"
     ]
    }
   ],
   "source": [
    "user_inp = np.array([40,1,0,28])\n",
    "user_inp = user_inp.reshape(1, -1)\n",
    "\n",
    "# apply the scaler on the input array\n",
    "user_inp_scaled = ss.transform(user_inp)\n",
    "\n",
    "print(user_inp_scaled)"
   ]
  },
  {
   "cell_type": "code",
   "execution_count": 87,
   "id": "66defd1c",
   "metadata": {},
   "outputs": [
    {
     "data": {
      "text/plain": [
       "array([53.66666667])"
      ]
     },
     "execution_count": 87,
     "metadata": {},
     "output_type": "execute_result"
    }
   ],
   "source": [
    "dc.predict(user_inp_scaled)"
   ]
  },
  {
   "cell_type": "code",
   "execution_count": null,
   "id": "ccf7698a",
   "metadata": {},
   "outputs": [],
   "source": []
  }
 ],
 "metadata": {
  "kernelspec": {
   "display_name": "Python 3 (ipykernel)",
   "language": "python",
   "name": "python3"
  },
  "language_info": {
   "codemirror_mode": {
    "name": "ipython",
    "version": 3
   },
   "file_extension": ".py",
   "mimetype": "text/x-python",
   "name": "python",
   "nbconvert_exporter": "python",
   "pygments_lexer": "ipython3",
   "version": "3.9.13"
  }
 },
 "nbformat": 4,
 "nbformat_minor": 5
}
